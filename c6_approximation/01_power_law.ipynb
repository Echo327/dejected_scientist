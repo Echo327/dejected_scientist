{
 "cells": [
  {
   "cell_type": "code",
   "execution_count": 1,
   "id": "696e7993",
   "metadata": {},
   "outputs": [],
   "source": [
    "import numpy as np\n",
    "import pandas as pd\n",
    "import matplotlib.pyplot as plt"
   ]
  },
  {
   "cell_type": "markdown",
   "id": "309a0892",
   "metadata": {},
   "source": [
    "# The hidden link between static polarisability, $\\alpha_0$ and $C_6$"
   ]
  },
  {
   "cell_type": "markdown",
   "id": "fe7a0e60",
   "metadata": {},
   "source": [
    "## Introduction"
   ]
  },
  {
   "cell_type": "markdown",
   "id": "a5f21877",
   "metadata": {},
   "source": [
    "$C_6$ coefficient: *see Lennard-Jones potential*  \n",
    "\n",
    "Polarisability, $\\alpha$ : \"Polarizability usually refers to the tendency of matter, when subjected to an electric field, to acquire an electric dipole moment in proportion to that applied field.\"  [ Wikipedia, https://en.wikipedia.org/wiki/Polarizability ]\n",
    "\n",
    "Static Polarisabilty, $\\alpha_0$: \"Static polarizabilities are the first response of the electron density to electric fields\" [ https://doi.org/10.1039/C8CP03569E ]"
   ]
  },
  {
   "cell_type": "markdown",
   "id": "363ced29",
   "metadata": {},
   "source": [
    "- Polarisability\n",
    "- Casimir-Polder\n",
    "- $C_6$"
   ]
  },
  {
   "cell_type": "markdown",
   "id": "3bf8a817",
   "metadata": {},
   "source": [
    "## The link between Static Polarisability $a_0$ and $C_6$ [Gould, 2016]\n"
   ]
  },
  {
   "cell_type": "markdown",
   "id": "88f123ba",
   "metadata": {},
   "source": [
    "Gould *et al.* [ Gould 2016: https://doi.org/10.1021/acs.jctc.6b00361 ] have shown that a power law ($C_6 = 1.43 \\alpha(0)^{1.45}$, Figure 2 in Gould 2016) correctly describes the relationship between a collection of pairs of **both heteronuclear and homonuclear neutral species**."
   ]
  },
  {
   "cell_type": "markdown",
   "id": "969b73aa",
   "metadata": {},
   "source": [
    "They suggest further improvement of the quality of the fit by considering the dependence on the static polarisability of each species, named x and y, seperately. However, instead of modifying the fit or defining function, we consider here only the _unscaled_ PGG $C_6$ **homonuclear** species (from Gould 2016) compared to recommended values of static polarisability from Schwerdtfeger *et al.* (tabulated in Schwerdtfeger 2018: https://doi.org/10.1080/00268976.2018.1535143)."
   ]
  },
  {
   "cell_type": "code",
   "execution_count": 2,
   "id": "6b4f40ce",
   "metadata": {},
   "outputs": [],
   "source": [
    "df = pd.DataFrame(columns=[\"a0\", \"C6\"])\n",
    "with open('Gould_2016_ModelPGG_Modified_Neutral.dat','r') as file:\n",
    "    _ = [file.readline() for i in range(12)]\n",
    "    lst = []\n",
    "    for i in range(86):\n",
    "        index, a0, c6 = file.readline().split()\n",
    "        df.loc[str(int(index))] = [float(a0), float(c6)]"
   ]
  },
  {
   "cell_type": "code",
   "execution_count": 22,
   "id": "af5f3bd8",
   "metadata": {},
   "outputs": [
    {
     "data": {
      "image/png": "[encoded data removed]",
      "text/plain": [
       "<Figure size 432x288 with 1 Axes>"
      ]
     },
     "metadata": {
      "needs_background": "light"
     },
     "output_type": "display_data"
    }
   ],
   "source": [
    "plt.scatter(df[\"a0\"], df[\"C6\"]);\n",
    "plt.xlabel(r\"$a_0$ (Schwerdtfeger et al.)\");\n",
    "plt.ylabel(r\"$C_6$ (Gould et al.)\");\n",
    "plt.grid();\n",
    "plt.title(r\"Unscaled PGG homonuclear $C_6$ v/s Static Polarisability ${\\alpha}_0$ for Neutral Species\");"
   ]
  },
  {
   "cell_type": "code",
   "execution_count": null,
   "id": "e705a244",
   "metadata": {},
   "outputs": [],
   "source": [
    "# power law fit"
   ]
  },
  {
   "cell_type": "code",
   "execution_count": null,
   "id": "d51b5817",
   "metadata": {},
   "outputs": [],
   "source": [
    "# comparison to gould power law fit"
   ]
  },
  {
   "cell_type": "code",
   "execution_count": null,
   "id": "cba7c1ac",
   "metadata": {},
   "outputs": [],
   "source": [
    "# 01_functions: comparison to other functions\n",
    "# 02_anions_1 : extension to single charge anions\n",
    "# 03_cations_1 : extension to single charge cations"
   ]
  }
 ],
 "metadata": {
  "kernelspec": {
   "display_name": "Python 3 (ipykernel)",
   "language": "python",
   "name": "python3"
  },
  "language_info": {
   "codemirror_mode": {
    "name": "ipython",
    "version": 3
   },
   "file_extension": ".py",
   "mimetype": "text/x-python",
   "name": "python",
   "nbconvert_exporter": "python",
   "pygments_lexer": "ipython3",
   "version": "3.9.7"
  }
 },
 "nbformat": 4,
 "nbformat_minor": 5
}
